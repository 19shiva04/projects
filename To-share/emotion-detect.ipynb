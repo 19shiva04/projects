{
 "cells": [
  {
   "cell_type": "code",
   "execution_count": 22,
   "id": "546d7a98",
   "metadata": {},
   "outputs": [],
   "source": [
    "import numpy as np # linear algebra\n",
    "import pandas as pd # data processing, CSV file I/O (e.g. pd.read_csv)"
   ]
  },
  {
   "cell_type": "code",
   "execution_count": 23,
   "id": "1676c65c",
   "metadata": {},
   "outputs": [],
   "source": [
    "from tensorflow.keras.models import Sequential\n",
    "from tensorflow.keras.layers import Dense, Dropout, Flatten\n",
    "from tensorflow.keras.layers import Conv2D\n",
    "from tensorflow.keras.optimizers import Adam\n",
    "from tensorflow.keras.layers import MaxPooling2D\n",
    "from tensorflow.keras.preprocessing.image import ImageDataGenerator\n",
    "from keras.preprocessing import image\n",
    "import matplotlib.pyplot as plt\n",
    "import os\n",
    "import tensorflow as tf\n",
    "from tensorflow.keras.preprocessing.sequence import pad_sequences\n",
    "from tensorflow.keras.layers import Embedding, LSTM, Dense, Bidirectional\n",
    "from tensorflow.keras.preprocessing.text import Tokenizer\n",
    "from tensorflow.keras.models import Sequential\n",
    "from tensorflow.keras.optimizers import Adam"
   ]
  },
  {
   "cell_type": "code",
   "execution_count": 24,
   "id": "eabca428",
   "metadata": {},
   "outputs": [],
   "source": [
    "train_dir = 'C:/Users/SHIVA/OneDrive/Desktop/archive (1)/train'\n",
    "val_dir = 'C:/Users/SHIVA/OneDrive/Desktop/archive (1)/test'"
   ]
  },
  {
   "cell_type": "code",
   "execution_count": 28,
   "id": "9abe0355",
   "metadata": {},
   "outputs": [
    {
     "name": "stdout",
     "output_type": "stream",
     "text": [
      "Found 28709 images belonging to 7 classes.\n",
      "Found 7178 images belonging to 7 classes.\n"
     ]
    }
   ],
   "source": [
    "num_train = 28709\n",
    "num_val = 7178\n",
    "batch_size = 64\n",
    "num_epoch = 80\n",
    "train_datagen = ImageDataGenerator(rescale=1./255)\n",
    "val_datagen = ImageDataGenerator(rescale=1./255)\n",
    "\n",
    "train_generator = train_datagen.flow_from_directory(\n",
    "        train_dir,\n",
    "        target_size=(48,48),\n",
    "        batch_size=batch_size,\n",
    "        color_mode=\"grayscale\",\n",
    "        class_mode='categorical')\n",
    "\n",
    "validation_generator = val_datagen.flow_from_directory(\n",
    "        val_dir,\n",
    "        target_size=(48,48),\n",
    "        batch_size=batch_size,\n",
    "        color_mode=\"grayscale\",\n",
    "        class_mode='categorical')"
   ]
  },
  {
   "cell_type": "code",
   "execution_count": 29,
   "id": "0a1bb0f9",
   "metadata": {},
   "outputs": [
    {
     "name": "stdout",
     "output_type": "stream",
     "text": [
      "Model: \"sequential_2\"\n",
      "_________________________________________________________________\n",
      " Layer (type)                Output Shape              Param #   \n",
      "=================================================================\n",
      " conv2d_8 (Conv2D)           (None, 46, 46, 32)        320       \n",
      "                                                                 \n",
      " conv2d_9 (Conv2D)           (None, 44, 44, 64)        18496     \n",
      "                                                                 \n",
      " max_pooling2d_6 (MaxPooling  (None, 22, 22, 64)       0         \n",
      " 2D)                                                             \n",
      "                                                                 \n",
      " dropout_6 (Dropout)         (None, 22, 22, 64)        0         \n",
      "                                                                 \n",
      " conv2d_10 (Conv2D)          (None, 20, 20, 128)       73856     \n",
      "                                                                 \n",
      " max_pooling2d_7 (MaxPooling  (None, 10, 10, 128)      0         \n",
      " 2D)                                                             \n",
      "                                                                 \n",
      " conv2d_11 (Conv2D)          (None, 8, 8, 128)         147584    \n",
      "                                                                 \n",
      " max_pooling2d_8 (MaxPooling  (None, 4, 4, 128)        0         \n",
      " 2D)                                                             \n",
      "                                                                 \n",
      " dropout_7 (Dropout)         (None, 4, 4, 128)         0         \n",
      "                                                                 \n",
      " flatten_2 (Flatten)         (None, 2048)              0         \n",
      "                                                                 \n",
      " dense_4 (Dense)             (None, 1024)              2098176   \n",
      "                                                                 \n",
      " dropout_8 (Dropout)         (None, 1024)              0         \n",
      "                                                                 \n",
      " dense_5 (Dense)             (None, 7)                 7175      \n",
      "                                                                 \n",
      "=================================================================\n",
      "Total params: 2,345,607\n",
      "Trainable params: 2,345,607\n",
      "Non-trainable params: 0\n",
      "_________________________________________________________________\n",
      "None\n"
     ]
    }
   ],
   "source": [
    "model = Sequential()\n",
    "\n",
    "model.add(Conv2D(32, kernel_size=(3, 3), activation='relu', input_shape=(48,48,1)))\n",
    "model.add(Conv2D(64, kernel_size=(3, 3), activation='relu'))\n",
    "model.add(MaxPooling2D(pool_size=(2, 2)))\n",
    "model.add(Dropout(0.25))\n",
    "\n",
    "model.add(Conv2D(128, kernel_size=(3, 3), activation='relu'))\n",
    "model.add(MaxPooling2D(pool_size=(2, 2)))\n",
    "model.add(Conv2D(128, kernel_size=(3, 3), activation='relu'))\n",
    "model.add(MaxPooling2D(pool_size=(2, 2)))\n",
    "model.add(Dropout(0.25))\n",
    "\n",
    "model.add(Flatten())\n",
    "model.add(Dense(1024, activation='relu'))\n",
    "model.add(Dropout(0.5))\n",
    "model.add(Dense(7, activation='softmax'))\n",
    "\n",
    "print(model.summary())"
   ]
  },
  {
   "cell_type": "code",
   "execution_count": 30,
   "id": "a054a7fb",
   "metadata": {},
   "outputs": [
    {
     "name": "stdout",
     "output_type": "stream",
     "text": [
      "Epoch 1/80\n",
      "448/448 [==============================] - 123s 274ms/step - loss: 1.7878 - accuracy: 0.2683 - val_loss: 1.6601 - val_accuracy: 0.3633\n",
      "Epoch 2/80\n",
      "448/448 [==============================] - 119s 265ms/step - loss: 1.6074 - accuracy: 0.3787 - val_loss: 1.5257 - val_accuracy: 0.4251\n",
      "Epoch 3/80\n",
      "448/448 [==============================] - 122s 272ms/step - loss: 1.5100 - accuracy: 0.4190 - val_loss: 1.4436 - val_accuracy: 0.4498\n",
      "Epoch 4/80\n",
      "448/448 [==============================] - 122s 272ms/step - loss: 1.4462 - accuracy: 0.4468 - val_loss: 1.3937 - val_accuracy: 0.4789\n",
      "Epoch 5/80\n",
      "448/448 [==============================] - 121s 271ms/step - loss: 1.3854 - accuracy: 0.4722 - val_loss: 1.3508 - val_accuracy: 0.4909\n",
      "Epoch 6/80\n",
      "448/448 [==============================] - 121s 271ms/step - loss: 1.3398 - accuracy: 0.4903 - val_loss: 1.3070 - val_accuracy: 0.5033\n",
      "Epoch 7/80\n",
      "448/448 [==============================] - 121s 270ms/step - loss: 1.2969 - accuracy: 0.5073 - val_loss: 1.2708 - val_accuracy: 0.5167\n",
      "Epoch 8/80\n",
      "448/448 [==============================] - 121s 271ms/step - loss: 1.2589 - accuracy: 0.5235 - val_loss: 1.2696 - val_accuracy: 0.5149\n",
      "Epoch 9/80\n",
      "448/448 [==============================] - 121s 271ms/step - loss: 1.2182 - accuracy: 0.5396 - val_loss: 1.2163 - val_accuracy: 0.5419\n",
      "Epoch 10/80\n",
      "448/448 [==============================] - 122s 272ms/step - loss: 1.1956 - accuracy: 0.5500 - val_loss: 1.1968 - val_accuracy: 0.5506\n",
      "Epoch 11/80\n",
      "448/448 [==============================] - 122s 272ms/step - loss: 1.1666 - accuracy: 0.5617 - val_loss: 1.1729 - val_accuracy: 0.5607\n",
      "Epoch 12/80\n",
      "448/448 [==============================] - 122s 271ms/step - loss: 1.1349 - accuracy: 0.5754 - val_loss: 1.1666 - val_accuracy: 0.5664\n",
      "Epoch 13/80\n",
      "448/448 [==============================] - 122s 272ms/step - loss: 1.1095 - accuracy: 0.5860 - val_loss: 1.1487 - val_accuracy: 0.5675\n",
      "Epoch 14/80\n",
      "448/448 [==============================] - 122s 272ms/step - loss: 1.0786 - accuracy: 0.5977 - val_loss: 1.1344 - val_accuracy: 0.5700\n",
      "Epoch 15/80\n",
      "448/448 [==============================] - 122s 272ms/step - loss: 1.0572 - accuracy: 0.6099 - val_loss: 1.1290 - val_accuracy: 0.5731\n",
      "Epoch 16/80\n",
      "448/448 [==============================] - 122s 271ms/step - loss: 1.0330 - accuracy: 0.6147 - val_loss: 1.1228 - val_accuracy: 0.5780\n",
      "Epoch 17/80\n",
      "448/448 [==============================] - 122s 271ms/step - loss: 1.0087 - accuracy: 0.6304 - val_loss: 1.1202 - val_accuracy: 0.5826\n",
      "Epoch 18/80\n",
      "448/448 [==============================] - 122s 272ms/step - loss: 0.9831 - accuracy: 0.6360 - val_loss: 1.1050 - val_accuracy: 0.5855\n",
      "Epoch 19/80\n",
      "448/448 [==============================] - 122s 272ms/step - loss: 0.9588 - accuracy: 0.6491 - val_loss: 1.1007 - val_accuracy: 0.5917\n",
      "Epoch 20/80\n",
      "448/448 [==============================] - 122s 272ms/step - loss: 0.9313 - accuracy: 0.6549 - val_loss: 1.0909 - val_accuracy: 0.5964\n",
      "Epoch 21/80\n",
      "448/448 [==============================] - 122s 272ms/step - loss: 0.9105 - accuracy: 0.6651 - val_loss: 1.0905 - val_accuracy: 0.5979\n",
      "Epoch 22/80\n",
      "448/448 [==============================] - 123s 274ms/step - loss: 0.8851 - accuracy: 0.6765 - val_loss: 1.0912 - val_accuracy: 0.5979\n",
      "Epoch 23/80\n",
      "448/448 [==============================] - 122s 272ms/step - loss: 0.8633 - accuracy: 0.6831 - val_loss: 1.0967 - val_accuracy: 0.6016\n",
      "Epoch 24/80\n",
      "448/448 [==============================] - 122s 272ms/step - loss: 0.8390 - accuracy: 0.6916 - val_loss: 1.0873 - val_accuracy: 0.5979\n",
      "Epoch 25/80\n",
      "448/448 [==============================] - 122s 273ms/step - loss: 0.8107 - accuracy: 0.7041 - val_loss: 1.0941 - val_accuracy: 0.5982\n",
      "Epoch 26/80\n",
      "448/448 [==============================] - 123s 273ms/step - loss: 0.7883 - accuracy: 0.7143 - val_loss: 1.0861 - val_accuracy: 0.6049\n",
      "Epoch 27/80\n",
      "448/448 [==============================] - 124s 276ms/step - loss: 0.7691 - accuracy: 0.7205 - val_loss: 1.0878 - val_accuracy: 0.6035\n",
      "Epoch 28/80\n",
      "448/448 [==============================] - 124s 276ms/step - loss: 0.7423 - accuracy: 0.7292 - val_loss: 1.0924 - val_accuracy: 0.6025\n",
      "Epoch 29/80\n",
      "448/448 [==============================] - 124s 277ms/step - loss: 0.7192 - accuracy: 0.7375 - val_loss: 1.0879 - val_accuracy: 0.6088\n",
      "Epoch 30/80\n",
      "448/448 [==============================] - 127s 283ms/step - loss: 0.6996 - accuracy: 0.7470 - val_loss: 1.0965 - val_accuracy: 0.6101\n",
      "Epoch 31/80\n",
      "448/448 [==============================] - 124s 278ms/step - loss: 0.6790 - accuracy: 0.7506 - val_loss: 1.1065 - val_accuracy: 0.6077\n",
      "Epoch 32/80\n",
      "448/448 [==============================] - 128s 286ms/step - loss: 0.6518 - accuracy: 0.7654 - val_loss: 1.0969 - val_accuracy: 0.6097\n",
      "Epoch 33/80\n",
      "448/448 [==============================] - 131s 293ms/step - loss: 0.6316 - accuracy: 0.7690 - val_loss: 1.1071 - val_accuracy: 0.6113\n",
      "Epoch 34/80\n",
      "448/448 [==============================] - 129s 287ms/step - loss: 0.6126 - accuracy: 0.7754 - val_loss: 1.1063 - val_accuracy: 0.6134\n",
      "Epoch 35/80\n",
      "448/448 [==============================] - 134s 299ms/step - loss: 0.5893 - accuracy: 0.7860 - val_loss: 1.1225 - val_accuracy: 0.6106\n",
      "Epoch 36/80\n",
      "448/448 [==============================] - 131s 293ms/step - loss: 0.5715 - accuracy: 0.7949 - val_loss: 1.1303 - val_accuracy: 0.6127\n",
      "Epoch 37/80\n",
      "448/448 [==============================] - 132s 295ms/step - loss: 0.5475 - accuracy: 0.8022 - val_loss: 1.1418 - val_accuracy: 0.6115\n",
      "Epoch 38/80\n",
      "448/448 [==============================] - 125s 280ms/step - loss: 0.5393 - accuracy: 0.8055 - val_loss: 1.1384 - val_accuracy: 0.6164\n",
      "Epoch 39/80\n",
      "448/448 [==============================] - 124s 277ms/step - loss: 0.5161 - accuracy: 0.8135 - val_loss: 1.1426 - val_accuracy: 0.6215\n",
      "Epoch 40/80\n",
      "448/448 [==============================] - 124s 277ms/step - loss: 0.5049 - accuracy: 0.8171 - val_loss: 1.1357 - val_accuracy: 0.6157\n",
      "Epoch 41/80\n",
      "448/448 [==============================] - 123s 274ms/step - loss: 0.4772 - accuracy: 0.8283 - val_loss: 1.1607 - val_accuracy: 0.6198\n",
      "Epoch 42/80\n",
      "448/448 [==============================] - 123s 274ms/step - loss: 0.4718 - accuracy: 0.8290 - val_loss: 1.1698 - val_accuracy: 0.6194\n",
      "Epoch 43/80\n",
      "448/448 [==============================] - 122s 273ms/step - loss: 0.4575 - accuracy: 0.8350 - val_loss: 1.1763 - val_accuracy: 0.6177\n",
      "Epoch 44/80\n",
      "448/448 [==============================] - 125s 279ms/step - loss: 0.4468 - accuracy: 0.8396 - val_loss: 1.1770 - val_accuracy: 0.6217\n",
      "Epoch 45/80\n",
      "448/448 [==============================] - 122s 273ms/step - loss: 0.4250 - accuracy: 0.8471 - val_loss: 1.1902 - val_accuracy: 0.6193\n",
      "Epoch 46/80\n",
      "448/448 [==============================] - 122s 273ms/step - loss: 0.4128 - accuracy: 0.8532 - val_loss: 1.1998 - val_accuracy: 0.6205\n",
      "Epoch 47/80\n",
      "448/448 [==============================] - 123s 275ms/step - loss: 0.4010 - accuracy: 0.8552 - val_loss: 1.2187 - val_accuracy: 0.6250\n",
      "Epoch 48/80\n",
      "448/448 [==============================] - 122s 273ms/step - loss: 0.3884 - accuracy: 0.8601 - val_loss: 1.2202 - val_accuracy: 0.6214\n",
      "Epoch 49/80\n",
      "448/448 [==============================] - 122s 273ms/step - loss: 0.3792 - accuracy: 0.8627 - val_loss: 1.2206 - val_accuracy: 0.6200\n",
      "Epoch 50/80\n",
      "448/448 [==============================] - 122s 272ms/step - loss: 0.3654 - accuracy: 0.8686 - val_loss: 1.2347 - val_accuracy: 0.6229\n",
      "Epoch 51/80\n",
      "448/448 [==============================] - 125s 279ms/step - loss: 0.3643 - accuracy: 0.8685 - val_loss: 1.2564 - val_accuracy: 0.6179\n",
      "Epoch 52/80\n",
      "448/448 [==============================] - 122s 272ms/step - loss: 0.3496 - accuracy: 0.8729 - val_loss: 1.2500 - val_accuracy: 0.6239\n",
      "Epoch 53/80\n",
      "448/448 [==============================] - 122s 272ms/step - loss: 0.3328 - accuracy: 0.8804 - val_loss: 1.2756 - val_accuracy: 0.6219\n",
      "Epoch 54/80\n",
      "448/448 [==============================] - 123s 274ms/step - loss: 0.3320 - accuracy: 0.8790 - val_loss: 1.2727 - val_accuracy: 0.6182\n",
      "Epoch 55/80\n",
      "448/448 [==============================] - 122s 272ms/step - loss: 0.3204 - accuracy: 0.8864 - val_loss: 1.2746 - val_accuracy: 0.6196\n",
      "Epoch 56/80\n",
      "448/448 [==============================] - 123s 273ms/step - loss: 0.3108 - accuracy: 0.8894 - val_loss: 1.2986 - val_accuracy: 0.6222\n"
     ]
    },
    {
     "name": "stdout",
     "output_type": "stream",
     "text": [
      "Epoch 57/80\n",
      "448/448 [==============================] - 138s 308ms/step - loss: 0.3024 - accuracy: 0.8925 - val_loss: 1.3038 - val_accuracy: 0.6186\n",
      "Epoch 58/80\n",
      "448/448 [==============================] - 144s 320ms/step - loss: 0.2931 - accuracy: 0.8944 - val_loss: 1.3035 - val_accuracy: 0.6200\n",
      "Epoch 59/80\n",
      "448/448 [==============================] - 133s 298ms/step - loss: 0.2935 - accuracy: 0.8952 - val_loss: 1.3096 - val_accuracy: 0.6222\n",
      "Epoch 60/80\n",
      "448/448 [==============================] - 126s 280ms/step - loss: 0.2733 - accuracy: 0.9033 - val_loss: 1.3264 - val_accuracy: 0.6221\n",
      "Epoch 61/80\n",
      "448/448 [==============================] - 126s 282ms/step - loss: 0.2826 - accuracy: 0.8974 - val_loss: 1.3185 - val_accuracy: 0.6295\n",
      "Epoch 62/80\n",
      "448/448 [==============================] - 125s 279ms/step - loss: 0.2644 - accuracy: 0.9049 - val_loss: 1.3389 - val_accuracy: 0.6258\n",
      "Epoch 63/80\n",
      "448/448 [==============================] - 125s 279ms/step - loss: 0.2597 - accuracy: 0.9080 - val_loss: 1.3376 - val_accuracy: 0.6270\n",
      "Epoch 64/80\n",
      "448/448 [==============================] - 136s 305ms/step - loss: 0.2606 - accuracy: 0.9082 - val_loss: 1.3842 - val_accuracy: 0.6194\n",
      "Epoch 65/80\n",
      "448/448 [==============================] - 127s 283ms/step - loss: 0.2506 - accuracy: 0.9122 - val_loss: 1.3810 - val_accuracy: 0.6194\n",
      "Epoch 66/80\n",
      "448/448 [==============================] - 126s 282ms/step - loss: 0.2420 - accuracy: 0.9150 - val_loss: 1.3702 - val_accuracy: 0.6221\n",
      "Epoch 67/80\n",
      "448/448 [==============================] - 131s 293ms/step - loss: 0.2397 - accuracy: 0.9156 - val_loss: 1.3729 - val_accuracy: 0.6251\n",
      "Epoch 68/80\n",
      "448/448 [==============================] - 138s 308ms/step - loss: 0.2390 - accuracy: 0.9156 - val_loss: 1.3866 - val_accuracy: 0.6186\n",
      "Epoch 69/80\n",
      "448/448 [==============================] - 133s 298ms/step - loss: 0.2328 - accuracy: 0.9167 - val_loss: 1.3743 - val_accuracy: 0.6225\n",
      "Epoch 70/80\n",
      "448/448 [==============================] - 140s 313ms/step - loss: 0.2238 - accuracy: 0.9202 - val_loss: 1.4083 - val_accuracy: 0.6229\n",
      "Epoch 71/80\n",
      "448/448 [==============================] - 133s 296ms/step - loss: 0.2216 - accuracy: 0.9205 - val_loss: 1.3921 - val_accuracy: 0.6232\n",
      "Epoch 72/80\n",
      "448/448 [==============================] - 127s 284ms/step - loss: 0.2117 - accuracy: 0.9264 - val_loss: 1.4179 - val_accuracy: 0.6196\n",
      "Epoch 73/80\n",
      "448/448 [==============================] - 126s 282ms/step - loss: 0.2096 - accuracy: 0.9246 - val_loss: 1.4273 - val_accuracy: 0.6184\n",
      "Epoch 74/80\n",
      "448/448 [==============================] - 123s 275ms/step - loss: 0.2114 - accuracy: 0.9256 - val_loss: 1.4323 - val_accuracy: 0.6211\n",
      "Epoch 75/80\n",
      "448/448 [==============================] - 129s 289ms/step - loss: 0.2107 - accuracy: 0.9251 - val_loss: 1.4479 - val_accuracy: 0.6212\n",
      "Epoch 76/80\n",
      "448/448 [==============================] - 135s 302ms/step - loss: 0.1942 - accuracy: 0.9314 - val_loss: 1.4792 - val_accuracy: 0.6205\n",
      "Epoch 77/80\n",
      "448/448 [==============================] - 130s 290ms/step - loss: 0.2005 - accuracy: 0.9303 - val_loss: 1.4297 - val_accuracy: 0.6228\n",
      "Epoch 78/80\n",
      "448/448 [==============================] - 132s 294ms/step - loss: 0.1943 - accuracy: 0.9325 - val_loss: 1.4672 - val_accuracy: 0.6229\n",
      "Epoch 79/80\n",
      "448/448 [==============================] - 130s 289ms/step - loss: 0.1926 - accuracy: 0.9326 - val_loss: 1.4622 - val_accuracy: 0.6191\n",
      "Epoch 80/80\n",
      "448/448 [==============================] - 127s 284ms/step - loss: 0.1900 - accuracy: 0.9324 - val_loss: 1.4806 - val_accuracy: 0.6208\n"
     ]
    }
   ],
   "source": [
    "model.compile(loss='categorical_crossentropy',optimizer=Adam(learning_rate=0.0001, decay=1e-6),metrics=['accuracy'])\n",
    "history = model.fit(\n",
    "    train_generator,\n",
    "    steps_per_epoch=num_train // batch_size,\n",
    "    epochs=num_epoch,\n",
    "    validation_data=validation_generator,\n",
    "    validation_steps=num_val // batch_size)\n"
   ]
  },
  {
   "cell_type": "code",
   "execution_count": 31,
   "id": "110a7681",
   "metadata": {},
   "outputs": [
    {
     "name": "stdout",
     "output_type": "stream",
     "text": [
      "0.9324140548706055\n"
     ]
    }
   ],
   "source": [
    "acc=history.history['accuracy']\n",
    "print(acc[-1])"
   ]
  },
  {
   "cell_type": "code",
   "execution_count": 32,
   "id": "eca8db66",
   "metadata": {},
   "outputs": [
    {
     "data": {
      "image/png": "[encoded data removed]",
      "text/plain": [
       "<Figure size 1296x432 with 2 Axes>"
      ]
     },
     "metadata": {
      "needs_background": "light"
     },
     "output_type": "display_data"
    }
   ],
   "source": [
    "fig, axes = plt.subplots(1,2, figsize=(18, 6))\n",
    "\n",
    "axes[0].plot(history.history['accuracy'])\n",
    "axes[0].plot(history.history['val_accuracy'])\n",
    "axes[0].set_title('Model accuracy')\n",
    "axes[0].set_ylabel('Accuracy')\n",
    "axes[0].set_xlabel('Epoch')\n",
    "axes[0].legend(['Train', 'Validation'], loc='upper left')\n",
    "\n",
    "axes[1].plot(history.history['loss'])\n",
    "axes[1].plot(history.history['val_loss'])\n",
    "axes[1].set_title('Model loss')\n",
    "axes[1].set_ylabel('Loss')\n",
    "axes[1].set_xlabel('Epoch')\n",
    "axes[1].legend(['Train', 'Validation'], loc='upper left')\n",
    "plt.show()"
   ]
  },
  {
   "cell_type": "code",
   "execution_count": 33,
   "id": "ec473de2",
   "metadata": {},
   "outputs": [],
   "source": [
    "model.save('image_emotion.h5')"
   ]
  },
  {
   "cell_type": "code",
   "execution_count": 34,
   "id": "68473d15",
   "metadata": {},
   "outputs": [],
   "source": [
    "my_model=tf.keras.models.load_model('image_emotion.h5')"
   ]
  },
  {
   "cell_type": "code",
   "execution_count": null,
   "id": "699a10ce",
   "metadata": {},
   "outputs": [],
   "source": []
  },
  {
   "cell_type": "code",
   "execution_count": 35,
   "id": "c115af40",
   "metadata": {},
   "outputs": [
    {
     "name": "stdout",
     "output_type": "stream",
     "text": [
      "(48, 48)\n"
     ]
    },
    {
     "data": {
      "image/png": "[encoded data removed]",
      "text/plain": [
       "<Figure size 432x288 with 1 Axes>"
      ]
     },
     "metadata": {
      "needs_background": "light"
     },
     "output_type": "display_data"
    }
   ],
   "source": [
    "img = image.load_img(\"C:/Users/SHIVA/OneDrive/Desktop/archive (1)/train/angry/Training_3908.jpg\",target_size = (48,48),color_mode = \"grayscale\")\n",
    "img = np.array(img)\n",
    "plt.imshow(img)\n",
    "print(img.shape)"
   ]
  },
  {
   "cell_type": "code",
   "execution_count": 36,
   "id": "2bc2f998",
   "metadata": {},
   "outputs": [
    {
     "name": "stdout",
     "output_type": "stream",
     "text": [
      "[[1. 0. 0. 0. 0. 0. 0.]]\n",
      "[1.0, 0.0, 0.0, 0.0, 0.0, 0.0, 0.0]\n"
     ]
    }
   ],
   "source": [
    "img = np.expand_dims(img,axis = 0) #makes image shape (1,48,48)\n",
    "img = img.reshape(1,48,48,1)\n",
    "result = my_model.predict(img)\n",
    "print(result)\n",
    "result = list(result[0])\n",
    "print(result)"
   ]
  },
  {
   "cell_type": "code",
   "execution_count": 37,
   "id": "d4838ee4",
   "metadata": {},
   "outputs": [
    {
     "name": "stdout",
     "output_type": "stream",
     "text": [
      "Angry\n"
     ]
    }
   ],
   "source": [
    "label_dict = {0:'Angry',1:'Disgust',2:'Fear',3:'Happy',4:'Neutral',5:'Sad',6:'Surprise'}\n",
    "img_index = result.index(max(result))#input image\n",
    "print(label_dict[img_index])\n",
    "plt.show()"
   ]
  },
  {
   "cell_type": "code",
   "execution_count": null,
   "id": "cda13ee2",
   "metadata": {},
   "outputs": [],
   "source": []
  }
 ],
 "metadata": {
  "kernelspec": {
   "display_name": "Python 3 (ipykernel)",
   "language": "python",
   "name": "python3"
  },
  "language_info": {
   "codemirror_mode": {
    "name": "ipython",
    "version": 3
   },
   "file_extension": ".py",
   "mimetype": "text/x-python",
   "name": "python",
   "nbconvert_exporter": "python",
   "pygments_lexer": "ipython3",
   "version": "3.9.7"
  }
 },
 "nbformat": 4,
 "nbformat_minor": 5
}
