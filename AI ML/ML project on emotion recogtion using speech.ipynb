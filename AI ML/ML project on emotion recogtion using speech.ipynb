{
 "cells": [
  {
   "cell_type": "code",
   "execution_count": 1,
   "id": "9878e149",
   "metadata": {},
   "outputs": [],
   "source": [
    "import librosa\n",
    "import time\n",
    "import soundfile\n",
    "import os, glob, pickle\n",
    "import numpy as np\n",
    "from sklearn.model_selection import train_test_split\n",
    "from sklearn.neural_network import MLPClassifier\n",
    "from sklearn.metrics import accuracy_score"
   ]
  },
  {
   "cell_type": "code",
   "execution_count": 2,
   "id": "b1397a2d",
   "metadata": {},
   "outputs": [],
   "source": [
    "#Extract features (mfcc, chroma, mel) from a sound file\n",
    "def extract_feature(file_name, mfcc, chroma, mel):\n",
    "    with soundfile.SoundFile(file_name) as sound_file:\n",
    "        X = sound_file.read(dtype=\"float32\")\n",
    "        sample_rate=sound_file.samplerate\n",
    "        if chroma:\n",
    "            stft=np.abs(librosa.stft(X))\n",
    "        result=np.array([])\n",
    "        if mfcc:\n",
    "            mfccs=np.mean(librosa.feature.mfcc(y=X, sr=sample_rate, n_mfcc=40).T, axis=0)\n",
    "            result=np.hstack((result, mfccs))\n",
    "        if chroma:\n",
    "            chroma=np.mean(librosa.feature.chroma_stft(S=stft, sr=sample_rate).T,axis=0)\n",
    "            result=np.hstack((result, chroma))\n",
    "        if mel:\n",
    "            mel=np.mean(librosa.feature.melspectrogram(X, sr=sample_rate).T,axis=0)\n",
    "            result=np.hstack((result, mel))\n",
    "    return result"
   ]
  },
  {
   "cell_type": "code",
   "execution_count": 3,
   "id": "f73ce574",
   "metadata": {},
   "outputs": [],
   "source": [
    "# Emotions in the RAVDESS dataset\n",
    "emotions={\n",
    "  '01':'neutral',\n",
    "  '02':'calm',\n",
    "  '03':'happy',\n",
    "  '04':'sad',\n",
    "  '05':'angry',\n",
    "  '06':'fearful',\n",
    "  '07':'disgust',\n",
    "  '08':'surprised'\n",
    "}\n",
    "\n",
    "#Emotions to observe\n",
    "observed_emotions=['calm', 'happy', 'fearful', 'disgust']"
   ]
  },
  {
   "cell_type": "code",
   "execution_count": 4,
   "id": "5f38887a",
   "metadata": {},
   "outputs": [],
   "source": [
    "#Load the data and extract features for each sound file\n",
    "def load_data(test_size=0.2):\n",
    "    x,y=[],[]\n",
    "    for file in glob.glob(\"Actor_*/*.wav\"):\n",
    "        file_name=os.path.basename(file)\n",
    "        emotion=emotions[file_name.split(\"-\")[2]]\n",
    "        if emotion not in observed_emotions:\n",
    "            continue\n",
    "        feature=extract_feature(file, mfcc=True, chroma=True, mel=True)\n",
    "        x.append(feature)\n",
    "        y.append(emotion)\n",
    "    for file in glob.glob(\"C:/Users/SHIVA/OneDrive/Desktop/TESS/TESS Toronto emotional speech set data/*AF_*/*.wav\"):\n",
    "        file_name=os.path.basename(file)\n",
    "        emotion=file_name.split(\"_\")[2][:-4]\n",
    "        if emotion == 'ps':\n",
    "            emotion = 'surprised'\n",
    "        if emotion not in observed_emotions:\n",
    "            continue\n",
    "        feature=extract_feature(file, mfcc=True, chroma=True, mel=True)\n",
    "        x.append(feature)\n",
    "        y.append(emotion)\n",
    "    \n",
    "    return train_test_split(np.array(x), y, test_size=test_size, random_state=0)"
   ]
  },
  {
   "cell_type": "code",
   "execution_count": 5,
   "id": "e9c5a64b",
   "metadata": {},
   "outputs": [
    {
     "name": "stdout",
     "output_type": "stream",
     "text": [
      "--- Data loaded. Loading time: 78.65515637397766 seconds ---\n"
     ]
    }
   ],
   "source": [
    "#Split the dataset\n",
    "#and sampling rate\n",
    "start_time = time.time()\n",
    "x_train,x_test,y_train,y_test=load_data(test_size=0.2)\n",
    "print(\"--- Data loaded. Loading time: %s seconds ---\" % (time.time() - start_time))"
   ]
  },
  {
   "cell_type": "code",
   "execution_count": 6,
   "id": "ac6e6a20",
   "metadata": {},
   "outputs": [
    {
     "name": "stdout",
     "output_type": "stream",
     "text": [
      "83\n"
     ]
    }
   ],
   "source": [
    "samplingrate=5000//60\n",
    "print(samplingrate)"
   ]
  },
  {
   "cell_type": "code",
   "execution_count": 7,
   "id": "947ab263",
   "metadata": {},
   "outputs": [
    {
     "name": "stdout",
     "output_type": "stream",
     "text": [
      "(1094, 274)\n"
     ]
    }
   ],
   "source": [
    "#Get the shape of the training and testing datasets\n",
    "print((x_train.shape[0], x_test.shape[0]))"
   ]
  },
  {
   "cell_type": "code",
   "execution_count": 8,
   "id": "dc25ebaf",
   "metadata": {},
   "outputs": [
    {
     "name": "stdout",
     "output_type": "stream",
     "text": [
      "Features extracted: 180\n"
     ]
    }
   ],
   "source": [
    "#Get the number of features extracted\n",
    "print(f'Features extracted: {x_train.shape[1]}')"
   ]
  },
  {
   "cell_type": "code",
   "execution_count": 9,
   "id": "5ad57719",
   "metadata": {},
   "outputs": [],
   "source": [
    "model=MLPClassifier(alpha=0.01, batch_size=256, epsilon=1e-08, hidden_layer_sizes=(300,), learning_rate='adaptive', max_iter=500)"
   ]
  },
  {
   "cell_type": "code",
   "execution_count": 10,
   "id": "0503ee93",
   "metadata": {},
   "outputs": [
    {
     "data": {
      "text/plain": [
       "MLPClassifier(alpha=0.01, batch_size=256, hidden_layer_sizes=(300,),\n",
       "              learning_rate='adaptive', max_iter=500)"
      ]
     },
     "execution_count": 10,
     "metadata": {},
     "output_type": "execute_result"
    }
   ],
   "source": [
    "#Train the model\n",
    "model.fit(x_train,y_train)"
   ]
  },
  {
   "cell_type": "code",
   "execution_count": 11,
   "id": "41db70e5",
   "metadata": {},
   "outputs": [],
   "source": [
    "#Predict for the test set\n",
    "y_pred=model.predict(x_test)"
   ]
  },
  {
   "cell_type": "code",
   "execution_count": 12,
   "id": "567102e1",
   "metadata": {},
   "outputs": [
    {
     "data": {
      "text/plain": [
       "array(['happy', 'happy', 'fearful', 'disgust', 'happy', 'happy', 'happy',\n",
       "       'happy', 'disgust', 'happy', 'happy', 'happy', 'happy', 'disgust',\n",
       "       'calm', 'happy', 'fearful', 'happy', 'disgust', 'disgust',\n",
       "       'disgust', 'happy', 'happy', 'happy', 'happy', 'happy', 'disgust',\n",
       "       'happy', 'calm', 'disgust', 'happy', 'disgust', 'happy', 'happy',\n",
       "       'happy', 'calm', 'disgust', 'disgust', 'happy', 'fearful',\n",
       "       'disgust', 'happy', 'happy', 'fearful', 'calm', 'happy', 'happy',\n",
       "       'calm', 'disgust', 'disgust', 'happy', 'disgust', 'calm',\n",
       "       'disgust', 'happy', 'disgust', 'fearful', 'disgust', 'happy',\n",
       "       'happy', 'disgust', 'calm', 'disgust', 'happy', 'happy', 'calm',\n",
       "       'calm', 'fearful', 'disgust', 'calm', 'disgust', 'happy', 'happy',\n",
       "       'happy', 'happy', 'happy', 'happy', 'disgust', 'happy', 'happy',\n",
       "       'happy', 'happy', 'happy', 'happy', 'fearful', 'calm', 'disgust',\n",
       "       'happy', 'calm', 'happy', 'happy', 'disgust', 'disgust', 'disgust',\n",
       "       'happy', 'happy', 'happy', 'calm', 'disgust', 'calm', 'calm',\n",
       "       'disgust', 'happy', 'happy', 'disgust', 'calm', 'happy', 'calm',\n",
       "       'fearful', 'happy', 'happy', 'happy', 'happy', 'disgust', 'happy',\n",
       "       'happy', 'happy', 'calm', 'disgust', 'disgust', 'happy', 'disgust',\n",
       "       'happy', 'happy', 'disgust', 'disgust', 'happy', 'disgust', 'calm',\n",
       "       'disgust', 'happy', 'disgust', 'happy', 'happy', 'calm', 'calm',\n",
       "       'happy', 'happy', 'happy', 'happy', 'fearful', 'happy', 'happy',\n",
       "       'fearful', 'calm', 'disgust', 'disgust', 'calm', 'calm', 'disgust',\n",
       "       'happy', 'calm', 'happy', 'happy', 'disgust', 'calm', 'happy',\n",
       "       'disgust', 'happy', 'disgust', 'happy', 'fearful', 'fearful',\n",
       "       'disgust', 'happy', 'happy', 'happy', 'happy', 'happy', 'happy',\n",
       "       'disgust', 'happy', 'happy', 'disgust', 'disgust', 'happy',\n",
       "       'happy', 'happy', 'disgust', 'happy', 'disgust', 'disgust',\n",
       "       'happy', 'happy', 'happy', 'happy', 'happy', 'disgust', 'happy',\n",
       "       'happy', 'happy', 'happy', 'happy', 'happy', 'happy', 'fearful',\n",
       "       'disgust', 'disgust', 'happy', 'disgust', 'happy', 'happy',\n",
       "       'disgust', 'disgust', 'calm', 'happy', 'calm', 'happy', 'happy',\n",
       "       'happy', 'happy', 'calm', 'disgust', 'calm', 'fearful', 'happy',\n",
       "       'happy', 'disgust', 'happy', 'disgust', 'happy', 'disgust',\n",
       "       'happy', 'disgust', 'happy', 'happy', 'disgust', 'disgust',\n",
       "       'disgust', 'happy', 'happy', 'calm', 'happy', 'disgust', 'disgust',\n",
       "       'disgust', 'disgust', 'happy', 'happy', 'happy', 'happy',\n",
       "       'disgust', 'disgust', 'happy', 'disgust', 'disgust', 'calm',\n",
       "       'disgust', 'happy', 'happy', 'happy', 'disgust', 'disgust',\n",
       "       'disgust', 'fearful', 'calm', 'happy', 'happy', 'happy', 'happy',\n",
       "       'happy', 'happy', 'happy', 'disgust', 'happy', 'happy', 'fearful',\n",
       "       'happy', 'disgust', 'disgust', 'disgust', 'happy', 'calm', 'happy'],\n",
       "      dtype='<U7')"
      ]
     },
     "execution_count": 12,
     "metadata": {},
     "output_type": "execute_result"
    }
   ],
   "source": [
    "y_pred"
   ]
  },
  {
   "cell_type": "code",
   "execution_count": 13,
   "id": "78bd412e",
   "metadata": {},
   "outputs": [
    {
     "name": "stdout",
     "output_type": "stream",
     "text": [
      "Accuracy: 82.12%\n"
     ]
    }
   ],
   "source": [
    "#Calculate the accuracy of our model\n",
    "accuracy=accuracy_score(y_true=y_test, y_pred=y_pred)\n",
    "\n",
    "#Print the accuracy\n",
    "print(\"Accuracy: {:.2f}%\".format(accuracy*100))"
   ]
  },
  {
   "cell_type": "code",
   "execution_count": 14,
   "id": "520e4db5",
   "metadata": {},
   "outputs": [],
   "source": [
    "from sklearn.metrics import accuracy_score, f1_score"
   ]
  },
  {
   "cell_type": "code",
   "execution_count": 15,
   "id": "23fbcde2",
   "metadata": {},
   "outputs": [
    {
     "data": {
      "text/plain": [
       "array([0.81578947, 0.81879195, 0.49056604, 0.88888889])"
      ]
     },
     "execution_count": 15,
     "metadata": {},
     "output_type": "execute_result"
    }
   ],
   "source": [
    "f1_score(y_test, y_pred,average=None)"
   ]
  },
  {
   "cell_type": "code",
   "execution_count": 16,
   "id": "3d4cb9ef",
   "metadata": {},
   "outputs": [
    {
     "data": {
      "text/html": [
       "<div>\n",
       "<style scoped>\n",
       "    .dataframe tbody tr th:only-of-type {\n",
       "        vertical-align: middle;\n",
       "    }\n",
       "\n",
       "    .dataframe tbody tr th {\n",
       "        vertical-align: top;\n",
       "    }\n",
       "\n",
       "    .dataframe thead th {\n",
       "        text-align: right;\n",
       "    }\n",
       "</style>\n",
       "<table border=\"1\" class=\"dataframe\">\n",
       "  <thead>\n",
       "    <tr style=\"text-align: right;\">\n",
       "      <th></th>\n",
       "      <th>Actual</th>\n",
       "      <th>Predicted</th>\n",
       "    </tr>\n",
       "  </thead>\n",
       "  <tbody>\n",
       "    <tr>\n",
       "      <th>0</th>\n",
       "      <td>happy</td>\n",
       "      <td>happy</td>\n",
       "    </tr>\n",
       "    <tr>\n",
       "      <th>1</th>\n",
       "      <td>happy</td>\n",
       "      <td>happy</td>\n",
       "    </tr>\n",
       "    <tr>\n",
       "      <th>2</th>\n",
       "      <td>fearful</td>\n",
       "      <td>fearful</td>\n",
       "    </tr>\n",
       "    <tr>\n",
       "      <th>3</th>\n",
       "      <td>disgust</td>\n",
       "      <td>disgust</td>\n",
       "    </tr>\n",
       "    <tr>\n",
       "      <th>4</th>\n",
       "      <td>happy</td>\n",
       "      <td>happy</td>\n",
       "    </tr>\n",
       "    <tr>\n",
       "      <th>5</th>\n",
       "      <td>happy</td>\n",
       "      <td>happy</td>\n",
       "    </tr>\n",
       "    <tr>\n",
       "      <th>6</th>\n",
       "      <td>disgust</td>\n",
       "      <td>happy</td>\n",
       "    </tr>\n",
       "    <tr>\n",
       "      <th>7</th>\n",
       "      <td>happy</td>\n",
       "      <td>happy</td>\n",
       "    </tr>\n",
       "    <tr>\n",
       "      <th>8</th>\n",
       "      <td>happy</td>\n",
       "      <td>disgust</td>\n",
       "    </tr>\n",
       "    <tr>\n",
       "      <th>9</th>\n",
       "      <td>happy</td>\n",
       "      <td>happy</td>\n",
       "    </tr>\n",
       "    <tr>\n",
       "      <th>10</th>\n",
       "      <td>happy</td>\n",
       "      <td>happy</td>\n",
       "    </tr>\n",
       "    <tr>\n",
       "      <th>11</th>\n",
       "      <td>happy</td>\n",
       "      <td>happy</td>\n",
       "    </tr>\n",
       "    <tr>\n",
       "      <th>12</th>\n",
       "      <td>happy</td>\n",
       "      <td>happy</td>\n",
       "    </tr>\n",
       "    <tr>\n",
       "      <th>13</th>\n",
       "      <td>disgust</td>\n",
       "      <td>disgust</td>\n",
       "    </tr>\n",
       "    <tr>\n",
       "      <th>14</th>\n",
       "      <td>calm</td>\n",
       "      <td>calm</td>\n",
       "    </tr>\n",
       "    <tr>\n",
       "      <th>15</th>\n",
       "      <td>happy</td>\n",
       "      <td>happy</td>\n",
       "    </tr>\n",
       "    <tr>\n",
       "      <th>16</th>\n",
       "      <td>happy</td>\n",
       "      <td>fearful</td>\n",
       "    </tr>\n",
       "    <tr>\n",
       "      <th>17</th>\n",
       "      <td>happy</td>\n",
       "      <td>happy</td>\n",
       "    </tr>\n",
       "    <tr>\n",
       "      <th>18</th>\n",
       "      <td>disgust</td>\n",
       "      <td>disgust</td>\n",
       "    </tr>\n",
       "    <tr>\n",
       "      <th>19</th>\n",
       "      <td>calm</td>\n",
       "      <td>disgust</td>\n",
       "    </tr>\n",
       "  </tbody>\n",
       "</table>\n",
       "</div>"
      ],
      "text/plain": [
       "     Actual Predicted\n",
       "0     happy     happy\n",
       "1     happy     happy\n",
       "2   fearful   fearful\n",
       "3   disgust   disgust\n",
       "4     happy     happy\n",
       "5     happy     happy\n",
       "6   disgust     happy\n",
       "7     happy     happy\n",
       "8     happy   disgust\n",
       "9     happy     happy\n",
       "10    happy     happy\n",
       "11    happy     happy\n",
       "12    happy     happy\n",
       "13  disgust   disgust\n",
       "14     calm      calm\n",
       "15    happy     happy\n",
       "16    happy   fearful\n",
       "17    happy     happy\n",
       "18  disgust   disgust\n",
       "19     calm   disgust"
      ]
     },
     "execution_count": 16,
     "metadata": {},
     "output_type": "execute_result"
    }
   ],
   "source": [
    "import pandas as pd\n",
    "df=pd.DataFrame({'Actual': y_test, 'Predicted':y_pred})\n",
    "df.head(20)"
   ]
  },
  {
   "cell_type": "code",
   "execution_count": 17,
   "id": "35c70f25",
   "metadata": {},
   "outputs": [],
   "source": [
    "import pickle\n",
    "# Writing different model files to file\n",
    "with open( 'emotion.sav', 'wb') as f:\n",
    "    pickle.dump(model,f)"
   ]
  },
  {
   "cell_type": "code",
   "execution_count": 18,
   "id": "97fb653e",
   "metadata": {},
   "outputs": [
    {
     "data": {
      "text/plain": [
       "'happy'"
      ]
     },
     "execution_count": 18,
     "metadata": {},
     "output_type": "execute_result"
    }
   ],
   "source": [
    "filename = 'emotion.sav'\n",
    "loaded_model = pickle.load(open(filename, 'rb')) # loading the model file from the storage\n",
    "audio='Actor_01/03-01-01-01-01-01-01.wav'\n",
    "feature=extract_feature(audio, mfcc=True, chroma=True, mel=True)\n",
    "\n",
    "feature=feature.reshape(1,-1)\n",
    "\n",
    "prediction=loaded_model.predict(feature)\n",
    "prediction[0]"
   ]
  },
  {
   "cell_type": "code",
   "execution_count": null,
   "id": "f09203a7",
   "metadata": {},
   "outputs": [],
   "source": []
  }
 ],
 "metadata": {
  "kernelspec": {
   "display_name": "Python 3 (ipykernel)",
   "language": "python",
   "name": "python3"
  },
  "language_info": {
   "codemirror_mode": {
    "name": "ipython",
    "version": 3
   },
   "file_extension": ".py",
   "mimetype": "text/x-python",
   "name": "python",
   "nbconvert_exporter": "python",
   "pygments_lexer": "ipython3",
   "version": "3.9.7"
  }
 },
 "nbformat": 4,
 "nbformat_minor": 5
}
